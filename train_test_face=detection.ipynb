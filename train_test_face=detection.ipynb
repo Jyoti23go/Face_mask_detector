{
 "cells": [
  {
   "cell_type": "code",
   "execution_count": 1,
   "metadata": {},
   "outputs": [],
   "source": [
    "import numpy as np"
   ]
  },
  {
   "cell_type": "code",
   "execution_count": 2,
   "metadata": {},
   "outputs": [],
   "source": [
    "import cv2"
   ]
  },
  {
   "cell_type": "code",
   "execution_count": 3,
   "metadata": {},
   "outputs": [],
   "source": [
    "with_mask=np.load('with_mask.npy')\n",
    "without_mask=np.load('without_mask.npy')"
   ]
  },
  {
   "cell_type": "code",
   "execution_count": 4,
   "metadata": {},
   "outputs": [
    {
     "data": {
      "text/plain": [
       "(10, 50, 50, 3)"
      ]
     },
     "execution_count": 4,
     "metadata": {},
     "output_type": "execute_result"
    }
   ],
   "source": [
    "with_mask.shape"
   ]
  },
  {
   "cell_type": "code",
   "execution_count": 5,
   "metadata": {},
   "outputs": [
    {
     "data": {
      "text/plain": [
       "(10, 50, 50, 3)"
      ]
     },
     "execution_count": 5,
     "metadata": {},
     "output_type": "execute_result"
    }
   ],
   "source": [
    "without_mask.shape"
   ]
  },
  {
   "cell_type": "code",
   "execution_count": 6,
   "metadata": {},
   "outputs": [],
   "source": [
    "with_mask=with_mask.reshape(10,50*50*3)"
   ]
  },
  {
   "cell_type": "code",
   "execution_count": 7,
   "metadata": {},
   "outputs": [],
   "source": [
    "without_mask=without_mask.reshape(10,50*50*3)"
   ]
  },
  {
   "cell_type": "code",
   "execution_count": 8,
   "metadata": {},
   "outputs": [
    {
     "data": {
      "text/plain": [
       "(10, 7500)"
      ]
     },
     "execution_count": 8,
     "metadata": {},
     "output_type": "execute_result"
    }
   ],
   "source": [
    "with_mask.shape"
   ]
  },
  {
   "cell_type": "code",
   "execution_count": 9,
   "metadata": {},
   "outputs": [],
   "source": [
    "#now concatenate\n",
    "whole_data=np.r_[with_mask,without_mask]"
   ]
  },
  {
   "cell_type": "code",
   "execution_count": 10,
   "metadata": {},
   "outputs": [
    {
     "data": {
      "text/plain": [
       "(20, 7500)"
      ]
     },
     "execution_count": 10,
     "metadata": {},
     "output_type": "execute_result"
    }
   ],
   "source": [
    "whole_data.shape"
   ]
  },
  {
   "cell_type": "code",
   "execution_count": 11,
   "metadata": {},
   "outputs": [],
   "source": [
    "labels=np.zeros(whole_data.shape[0])"
   ]
  },
  {
   "cell_type": "code",
   "execution_count": 12,
   "metadata": {},
   "outputs": [],
   "source": [
    "labels[10:]=1.0"
   ]
  },
  {
   "cell_type": "code",
   "execution_count": 13,
   "metadata": {},
   "outputs": [],
   "source": [
    "detected={0:'with mask',1:'without mask'}"
   ]
  },
  {
   "cell_type": "code",
   "execution_count": 14,
   "metadata": {},
   "outputs": [],
   "source": [
    "import matplotlib.pyplot as plt"
   ]
  },
  {
   "cell_type": "code",
   "execution_count": 15,
   "metadata": {},
   "outputs": [],
   "source": [
    "from sklearn.svm import SVC"
   ]
  },
  {
   "cell_type": "code",
   "execution_count": 16,
   "metadata": {},
   "outputs": [],
   "source": [
    "from sklearn.metrics import accuracy_score"
   ]
  },
  {
   "cell_type": "code",
   "execution_count": 17,
   "metadata": {},
   "outputs": [],
   "source": [
    "from sklearn.model_selection import train_test_split"
   ]
  },
  {
   "cell_type": "code",
   "execution_count": 18,
   "metadata": {},
   "outputs": [],
   "source": [
    "x_train, x_test,y_train,y_test=train_test_split(whole_data,labels,test_size=0.25)"
   ]
  },
  {
   "cell_type": "code",
   "execution_count": 19,
   "metadata": {},
   "outputs": [
    {
     "data": {
      "text/plain": [
       "(15, 7500)"
      ]
     },
     "execution_count": 19,
     "metadata": {},
     "output_type": "execute_result"
    }
   ],
   "source": [
    "x_train.shape"
   ]
  },
  {
   "cell_type": "code",
   "execution_count": 20,
   "metadata": {},
   "outputs": [],
   "source": [
    "from sklearn.decomposition import PCA #principal component analysis for change dimensions"
   ]
  },
  {
   "cell_type": "code",
   "execution_count": 21,
   "metadata": {},
   "outputs": [],
   "source": [
    "pca=PCA(n_components=3)\n",
    "x_train=pca.fit_transform(x_train)\n",
    "x_test=pca.fit_transform(x_test)"
   ]
  },
  {
   "cell_type": "code",
   "execution_count": 22,
   "metadata": {},
   "outputs": [
    {
     "data": {
      "text/plain": [
       "(15, 3)"
      ]
     },
     "execution_count": 22,
     "metadata": {},
     "output_type": "execute_result"
    }
   ],
   "source": [
    "x_train.shape"
   ]
  },
  {
   "cell_type": "code",
   "execution_count": 23,
   "metadata": {},
   "outputs": [
    {
     "data": {
      "text/plain": [
       "array([5161.93600896,   89.30015283, -256.01651117])"
      ]
     },
     "execution_count": 23,
     "metadata": {},
     "output_type": "execute_result"
    }
   ],
   "source": [
    "x_train[1]"
   ]
  },
  {
   "cell_type": "code",
   "execution_count": 24,
   "metadata": {},
   "outputs": [
    {
     "data": {
      "text/plain": [
       "SVC(C=1.0, break_ties=False, cache_size=200, class_weight=None, coef0=0.0,\n",
       "    decision_function_shape='ovr', degree=3, gamma='scale', kernel='rbf',\n",
       "    max_iter=-1, probability=False, random_state=None, shrinking=True,\n",
       "    tol=0.001, verbose=False)"
      ]
     },
     "execution_count": 24,
     "metadata": {},
     "output_type": "execute_result"
    }
   ],
   "source": [
    "svm=SVC()\n",
    "svm.fit(x_train,y_train)"
   ]
  },
  {
   "cell_type": "code",
   "execution_count": 25,
   "metadata": {},
   "outputs": [],
   "source": [
    "y_prediction=svm.predict(x_test)"
   ]
  },
  {
   "cell_type": "code",
   "execution_count": 26,
   "metadata": {},
   "outputs": [
    {
     "data": {
      "text/plain": [
       "0.6"
      ]
     },
     "execution_count": 26,
     "metadata": {},
     "output_type": "execute_result"
    }
   ],
   "source": [
    "accuracy=accuracy_score(y_test,y_prediction)\n",
    "accuracy"
   ]
  },
  {
   "cell_type": "code",
   "execution_count": null,
   "metadata": {},
   "outputs": [
    {
     "name": "stdout",
     "output_type": "stream",
     "text": [
      "with mask\n",
      "with mask\n",
      "with mask\n",
      "with mask\n",
      "with mask\n",
      "with mask\n",
      "with mask\n",
      "with mask\n",
      "with mask\n",
      "with mask\n",
      "with mask\n",
      "with mask\n",
      "with mask\n",
      "with mask\n",
      "with mask\n",
      "with mask\n",
      "with mask\n",
      "with mask\n",
      "with mask\n",
      "with mask\n",
      "without mask\n",
      "with mask\n",
      "with mask\n",
      "with mask\n",
      "with mask\n",
      "with mask\n",
      "with mask\n",
      "with mask\n",
      "with mask\n",
      "with mask\n",
      "with mask\n",
      "with mask\n",
      "with mask\n",
      "with mask\n",
      "with mask\n",
      "with mask\n",
      "with mask\n",
      "with mask\n",
      "with mask\n",
      "with mask\n",
      "with mask\n",
      "with mask\n",
      "with mask\n",
      "with mask\n",
      "with mask\n",
      "with mask\n",
      "with mask\n",
      "with mask\n",
      "with mask\n",
      "with mask\n",
      "with mask\n",
      "with mask\n",
      "with mask\n",
      "with mask\n",
      "with mask\n",
      "with mask\n",
      "with mask\n",
      "with mask\n",
      "with mask\n",
      "with mask\n",
      "with mask\n",
      "with mask\n",
      "with mask\n",
      "with mask\n",
      "with mask\n",
      "with mask\n",
      "with mask\n",
      "with mask\n",
      "with mask\n",
      "with mask\n",
      "with mask\n",
      "with mask\n",
      "with mask\n",
      "with mask\n",
      "with mask\n",
      "with mask\n",
      "with mask\n",
      "with mask\n",
      "with mask\n",
      "with mask\n",
      "with mask\n",
      "with mask\n",
      "with mask\n",
      "with mask\n",
      "with mask\n",
      "with mask\n",
      "with mask\n",
      "with mask\n",
      "with mask\n",
      "with mask\n",
      "with mask\n",
      "with mask\n",
      "with mask\n",
      "with mask\n",
      "with mask\n",
      "with mask\n",
      "with mask\n",
      "with mask\n",
      "with mask\n",
      "with mask\n",
      "with mask\n",
      "with mask\n",
      "with mask\n",
      "with mask\n",
      "with mask\n",
      "with mask\n",
      "with mask\n",
      "with mask\n",
      "with mask\n",
      "with mask\n",
      "with mask\n",
      "with mask\n",
      "with mask\n",
      "with mask\n",
      "with mask\n",
      "with mask\n",
      "with mask\n",
      "with mask\n",
      "with mask\n",
      "with mask\n",
      "with mask\n",
      "with mask\n",
      "with mask\n",
      "with mask\n",
      "with mask\n",
      "with mask\n",
      "with mask\n",
      "with mask\n",
      "with mask\n",
      "with mask\n",
      "with mask\n",
      "with mask\n",
      "with mask\n",
      "with mask\n",
      "with mask\n",
      "with mask\n",
      "with mask\n",
      "with mask\n",
      "with mask\n",
      "with mask\n",
      "with mask\n",
      "with mask\n",
      "with mask\n",
      "with mask\n",
      "with mask\n",
      "with mask\n",
      "with mask\n",
      "with mask\n",
      "with mask\n",
      "with mask\n",
      "with mask\n",
      "with mask\n",
      "with mask\n",
      "with mask\n",
      "with mask\n",
      "with mask\n",
      "with mask\n",
      "with mask\n",
      "with mask\n",
      "with mask\n",
      "with mask\n",
      "with mask\n",
      "with mask\n",
      "with mask\n",
      "with mask\n",
      "with mask\n",
      "with mask\n",
      "with mask\n",
      "with mask\n",
      "with mask\n",
      "with mask\n",
      "with mask\n",
      "with mask\n",
      "with mask\n",
      "with mask\n",
      "with mask\n",
      "with mask\n",
      "with mask\n",
      "with mask\n",
      "with mask\n",
      "with mask\n",
      "with mask\n",
      "with mask\n",
      "with mask\n",
      "with mask\n",
      "with mask\n",
      "with mask\n",
      "with mask\n",
      "with mask\n",
      "with mask\n",
      "with mask\n",
      "with mask\n",
      "with mask\n",
      "with mask\n",
      "with mask\n",
      "with mask\n",
      "with mask\n",
      "with mask\n",
      "with mask\n",
      "with mask\n",
      "with mask\n",
      "with mask\n",
      "with mask\n",
      "with mask\n",
      "with mask\n",
      "with mask\n",
      "with mask\n",
      "with mask\n",
      "with mask\n",
      "with mask\n",
      "with mask\n",
      "with mask\n",
      "with mask\n",
      "with mask\n",
      "with mask\n",
      "with mask\n",
      "with mask\n",
      "with mask\n",
      "with mask\n",
      "with mask\n",
      "with mask\n",
      "with mask\n",
      "with mask\n",
      "with mask\n",
      "with mask\n",
      "with mask\n",
      "with mask\n",
      "with mask\n",
      "with mask\n",
      "with mask\n",
      "with mask\n",
      "with mask\n",
      "with mask\n",
      "with mask\n",
      "with mask\n",
      "with mask\n",
      "with mask\n",
      "with mask\n",
      "with mask\n",
      "with mask\n",
      "with mask\n",
      "with mask\n",
      "with mask\n",
      "with mask\n",
      "with mask\n",
      "with mask\n",
      "with mask\n",
      "with mask\n",
      "with mask\n",
      "with mask\n",
      "with mask\n",
      "with mask\n",
      "with mask\n",
      "with mask\n",
      "with mask\n",
      "with mask\n",
      "with mask\n",
      "with mask\n",
      "with mask\n",
      "with mask\n",
      "with mask\n",
      "with mask\n",
      "with mask\n",
      "with mask\n",
      "with mask\n",
      "with mask\n",
      "with mask\n",
      "with mask\n",
      "with mask\n",
      "with mask\n",
      "with mask\n",
      "with mask\n",
      "with mask\n",
      "with mask\n",
      "with mask\n",
      "with mask\n",
      "with mask\n",
      "with mask\n",
      "with mask\n",
      "with mask\n",
      "with mask\n",
      "with mask\n",
      "with mask\n",
      "with mask\n",
      "with mask\n",
      "with mask\n",
      "with mask\n",
      "with mask\n",
      "with mask\n",
      "with mask\n",
      "with mask\n",
      "with mask\n",
      "with mask\n",
      "with mask\n",
      "with mask\n",
      "with mask\n",
      "with mask\n",
      "with mask\n",
      "with mask\n",
      "with mask\n",
      "with mask\n",
      "with mask\n",
      "with mask\n",
      "with mask\n",
      "with mask\n",
      "with mask\n",
      "with mask\n",
      "with mask\n",
      "with mask\n",
      "with mask\n",
      "with mask\n",
      "with mask\n",
      "with mask\n",
      "with mask\n",
      "without mask\n",
      "with mask\n",
      "with mask\n",
      "with mask\n",
      "with mask\n",
      "with mask\n",
      "with mask\n",
      "with mask\n",
      "with mask\n",
      "with mask\n",
      "with mask\n",
      "with mask\n",
      "with mask\n",
      "with mask\n",
      "with mask\n",
      "with mask\n",
      "with mask\n",
      "with mask\n",
      "with mask\n",
      "with mask\n",
      "with mask\n",
      "with mask\n",
      "with mask\n",
      "with mask\n",
      "with mask\n",
      "with mask\n",
      "with mask\n",
      "with mask\n",
      "with mask\n",
      "with mask\n",
      "with mask\n",
      "with mask\n",
      "with mask\n",
      "with mask\n",
      "with mask\n",
      "with mask\n",
      "with mask\n",
      "with mask\n",
      "with mask\n",
      "with mask\n",
      "with mask\n",
      "with mask\n",
      "with mask\n",
      "with mask\n",
      "with mask\n",
      "with mask\n",
      "with mask\n",
      "with mask\n",
      "with mask\n",
      "with mask\n",
      "with mask\n",
      "with mask\n",
      "with mask\n",
      "with mask\n",
      "with mask\n",
      "with mask\n",
      "with mask\n",
      "with mask\n",
      "with mask\n",
      "with mask\n",
      "with mask\n",
      "with mask\n",
      "with mask\n",
      "with mask\n",
      "with mask\n",
      "with mask\n",
      "with mask\n",
      "with mask\n",
      "with mask\n",
      "with mask\n",
      "with mask\n",
      "with mask\n",
      "with mask\n",
      "with mask\n",
      "with mask\n",
      "with mask\n",
      "with mask\n",
      "with mask\n",
      "with mask\n",
      "with mask\n",
      "with mask\n",
      "with mask\n",
      "with mask\n",
      "with mask\n",
      "with mask\n",
      "with mask\n",
      "with mask\n",
      "with mask\n",
      "with mask\n",
      "with mask\n",
      "with mask\n",
      "with mask\n",
      "with mask\n",
      "with mask\n",
      "with mask\n",
      "with mask\n",
      "with mask\n",
      "with mask\n",
      "with mask\n",
      "with mask\n",
      "with mask\n",
      "with mask\n",
      "with mask\n",
      "with mask\n",
      "with mask\n",
      "with mask\n",
      "with mask\n",
      "with mask\n",
      "with mask\n",
      "with mask\n",
      "with mask\n",
      "with mask\n",
      "with mask\n",
      "with mask\n",
      "with mask\n",
      "with mask\n",
      "with mask\n",
      "with mask\n",
      "with mask\n",
      "with mask\n",
      "with mask\n",
      "with mask\n",
      "with mask\n",
      "with mask\n",
      "with mask\n",
      "with mask\n",
      "with mask\n",
      "with mask\n",
      "with mask\n",
      "with mask\n",
      "with mask\n",
      "with mask\n",
      "with mask\n",
      "with mask\n",
      "with mask\n",
      "with mask\n",
      "with mask\n",
      "with mask\n",
      "with mask\n",
      "with mask\n",
      "with mask\n",
      "with mask\n",
      "with mask\n",
      "with mask\n",
      "with mask\n",
      "with mask\n",
      "with mask\n",
      "with mask\n",
      "with mask\n",
      "with mask\n",
      "with mask\n",
      "with mask\n",
      "with mask\n"
     ]
    }
   ],
   "source": [
    "haar_cas=cv2.CascadeClassifier('haarcascade_frontalface_default.xml')\n",
    "capture=cv2.VideoCapture(0) #0 for default camera\n",
    "font=cv2.FONT_HERSHEY_COMPLEX\n",
    "while True:\n",
    "    flag,img = capture.read()\n",
    "    if flag:\n",
    "        faces=haar_cas.detectMultiScale(img)\n",
    "        for x,y,w,h in faces:\n",
    "            cv2.rectangle(img,(x,y),(x+w,y+h),(255,0,255),4)\n",
    "            face=img[y:y+h,x:x+w,:]\n",
    "            face=cv2.resize(face,(50,50))\n",
    "            face=face.reshape(1,-1)\n",
    "            face=pca.transform(face)\n",
    "            check=svm.predict(face)[0]\n",
    "            result=detected[int(check)]\n",
    "            cv2.putText(img,result,(x,y),font,1,(244,250,250),2)\n",
    "            print(result)\n",
    "        cv2.imshow('image',img)\n",
    "        if cv2.waitKey(2)==27:\n",
    "            break\n",
    "capture.release()\n",
    "cv2.destroyAllWindows()"
   ]
  },
  {
   "cell_type": "code",
   "execution_count": null,
   "metadata": {},
   "outputs": [],
   "source": []
  }
 ],
 "metadata": {
  "kernelspec": {
   "display_name": "Python 3",
   "language": "python",
   "name": "python3"
  },
  "language_info": {
   "codemirror_mode": {
    "name": "ipython",
    "version": 3
   },
   "file_extension": ".py",
   "mimetype": "text/x-python",
   "name": "python",
   "nbconvert_exporter": "python",
   "pygments_lexer": "ipython3",
   "version": "3.7.6"
  }
 },
 "nbformat": 4,
 "nbformat_minor": 4
}
